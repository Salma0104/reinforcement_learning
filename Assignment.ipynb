{
 "cells": [
  {
   "cell_type": "markdown",
   "id": "02944396",
   "metadata": {},
   "source": [
    "# Assignment"
   ]
  },
  {
   "cell_type": "code",
   "execution_count": 43,
   "id": "5dbdc7f2",
   "metadata": {},
   "outputs": [
    {
     "name": "stdout",
     "output_type": "stream",
     "text": [
      "The autoreload extension is already loaded. To reload it, use:\n",
      "  %reload_ext autoreload\n"
     ]
    }
   ],
   "source": [
    "%load_ext autoreload\n",
    "%autoreload 2"
   ]
  },
  {
   "cell_type": "code",
   "execution_count": 44,
   "id": "c9652bc6",
   "metadata": {},
   "outputs": [],
   "source": [
    "# Import \n",
    "\n",
    "import numpy as np\n",
    "import matplotlib.pyplot as plt\n",
    "from degree_freedom_queen import *\n",
    "from degree_freedom_king1 import *\n",
    "from degree_freedom_king2 import *\n",
    "from generate_game import *\n",
    "from Chess_env import *\n",
    "import neural_net \n",
    "import importlib\n",
    "import pandas as pd\n",
    "importlib.reload(neural_net)\n",
    "\n",
    "\n",
    "size_board = 4\n",
    "# set the seed\n",
    "np.random.seed(1)"
   ]
  },
  {
   "cell_type": "markdown",
   "id": "0bceca7c",
   "metadata": {},
   "source": [
    "## The Environment\n",
    "\n",
    "You can find the environment in the file Chess_env, which contains the class Chess_env. To define an object, you need to provide the board size considered as input. In our example, size_board=4. \n",
    "Chess_env is composed by the following methods:\n",
    "\n",
    "1. Initialise_game. The method initialises an episode by placing the three pieces considered (Agent's king and queen, enemy's king) in the chess board. The outputs of the method are described below in order.\n",
    "\n",
    "     S $\\;$ A matrix representing the board locations filled with 4 numbers: 0, no piece in that position; 1, location of the \n",
    "     agent's king; 2 location of the queen; 3 location of the enemy king.\n",
    "     \n",
    "     X $\\;$ The features, that is the input to the neural network. See the assignment for more information regarding the            definition of the features adopted. To personalise this, go into the Features method of the class Chess_env() and change        accordingly.\n",
    "     \n",
    "     allowed_a $\\;$ The allowed actions that the agent can make. The agent is moving a king, with a total number of 8                possible actions, and a queen, with a total number of $(board_{size}-1)\\times 8$ actions. The total number of possible actions correspond      to the sum of the two, but not all actions are allowed in a given position (movements to locations outside the borders or      against chess rules). Thus, the variable allowed_a is a vector that is one (zero) for an action that the agent can (can't)      make. Be careful, apply the policy considered on the actions that are allowed only.\n",
    "     \n",
    "\n",
    "2. OneStep. The method performs a one step update of the system. Given as input the action selected by the agent, it updates the chess board by performing that action and the response of the enemy king (which is a random allowed action in the settings considered). The first three outputs are the same as for the Initialise_game method, but the variables are computed for the position reached after the update of the system. The fourth and fifth outputs are:\n",
    "\n",
    "     R $\\;$ The reward. To change this, look at the OneStep method of the class where the rewards are set.\n",
    "     \n",
    "     Done $\\;$ A variable that is 1 if the episode has ended (checkmate or draw).\n",
    "     \n",
    "     \n",
    "3. Features. Given the chessboard position, the method computes the features.\n",
    "\n",
    "This information and a quick analysis of the class should be all you need to get going. The other functions that the class exploits are uncommented and constitute an example on how not to write a python code. You can take a look at them if you want, but it is not necessary.\n",
    "\n",
    "\n",
    "\n",
    "\n"
   ]
  },
  {
   "cell_type": "code",
   "execution_count": 45,
   "id": "9593a299",
   "metadata": {},
   "outputs": [],
   "source": [
    "\n",
    "\n",
    "## INITIALISE THE ENVIRONMENT\n",
    "\n",
    "env=Chess_Env(size_board)"
   ]
  },
  {
   "cell_type": "code",
   "execution_count": 46,
   "id": "ece20429",
   "metadata": {},
   "outputs": [],
   "source": [
    "# INITIALISE THE PARAMETERS OF YOUR NEURAL NETWORK AND...\n",
    "# PLEASE CONSIDER TO USE A MASK OF ONE FOR THE ACTION MADE AND ZERO OTHERWISE IF YOU ARE NOT USING VANILLA GRADIENT DESCENT...\n",
    "# WE SUGGEST A NETWORK WITH ONE HIDDEN LAYER WITH SIZE 200. \n",
    "\n",
    "\n",
    "S,X,allowed_a=env.Initialise_game()\n",
    "\n",
    "N_a=np.shape(allowed_a)[0]   # TOTAL NUMBER OF POSSIBLE ACTIONS\n",
    "\n",
    "N_in=np.shape(X)[0]    ## INPUT SIZE\n",
    "N_h=200                ## NUMBER OF HIDDEN NODES\n",
    "\n",
    "\n",
    "# HYPERPARAMETERS SUGGESTED (FOR A GRID SIZE OF 4)\n",
    "\n",
    "epsilon_0 = 0.1     # STARTING VALUE OF EPSILON FOR THE EPSILON-GREEDY POLICY\n",
    "beta = 0.00005      # THE PARAMETER SETS HOW QUICKLY THE VALUE OF EPSILON IS DECAYING (SEE epsilon_f BELOW)\n",
    "gamma = 0.85        # THE DISCOUNT FACTOR\n",
    "eta = 0.01        # THE LEARNING RATE\n",
    "ann =  neural_net.NeuralNet(N_in,200,N_a,eta)\n",
    "N_episodes = 500000 # THE NUMBER OF GAMES TO BE PLAYED (CHANGE BACK TO 100K)\n",
    "\n",
    "# SAVING VARIABLES\n",
    "R_save = np.zeros([N_episodes, 1])\n",
    "N_moves_save = np.zeros([N_episodes, 1])\n",
    "\n"
   ]
  },
  {
   "cell_type": "code",
   "execution_count": 47,
   "id": "6b9e0fe2",
   "metadata": {},
   "outputs": [],
   "source": [
    "# --- Agent policy\n",
    "def epsilon(allowed_a,Qvalues,ep):\n",
    "    allowed_a = allowed_a.ravel()\n",
    "    eGreedy = int(np.random.rand() < ep)\n",
    "    actions= np.where(allowed_a == 1)[0]\n",
    "\n",
    "    if eGreedy:\n",
    "        # random value from allowed moves\n",
    "        action = np.random.choice(actions)\n",
    "    else:\n",
    "        # pick permissible action with highest Q value\n",
    "        Qmasked = np.copy(Qvalues)\n",
    "        Qmasked[allowed_a == 0] = -1 \n",
    "        action = np.argmax(Qmasked)\n",
    "    return action\n",
    "\n",
    "# --- Gets the maximum Q value that is allowed\n",
    "def get_max_allowed(Qvalues,allowed):\n",
    "    action = epsilon(allowed,Qvalues,0)\n",
    "    return Qvalues[action]"
   ]
  },
  {
   "cell_type": "code",
   "execution_count": 48,
   "id": "2ee3d74b",
   "metadata": {},
   "outputs": [],
   "source": [
    "update_method = 0\n",
    "for n in range(N_episodes):\n",
    "    epsilon_f = epsilon_0 / (1 + beta * n)   ## DECAYING EPSILON\n",
    "    Done=0                                   ## SET DONE TO ZERO (BEGINNING OF THE EPISODE)\n",
    "    i = 1                                    ## COUNTER FOR NUMBER OF ACTIONS\n",
    "    S,X,allowed_a=env.Initialise_game()      ## INITIALISE GAME\n",
    "    a = -1\n",
    "    while Done==0:                           ## START THE EPISODE\n",
    "\n",
    "        Qvalues = ann.forward(X)\n",
    "        action = epsilon(allowed_a,Qvalues,epsilon_f)\n",
    "        S_next,X_next,allowed_a_next,R,Done=env.OneStep(action)\n",
    "        \n",
    "        # --- Episode End\n",
    "        if Done==1:\n",
    "            updatedQ = R\n",
    "            target = np.copy(Qvalues)\n",
    "            target[action] = updatedQ\n",
    "            ann.backward(Qvalues,target,X)\n",
    "            R_save[n]=np.copy(R)\n",
    "            N_moves_save[n]=np.copy(i)\n",
    "            break\n",
    "        \n",
    "        # --- Episode Continues\n",
    "        else:\n",
    "            if update_method == 0: # 0 = Q-learning 1 == sarsa\n",
    "                next_Qvalues = ann.forward(X_next)\n",
    "                max_next_Qvalue = get_max_allowed(next_Qvalues,allowed_a_next)\n",
    "                updatedQ = Qvalues[action] + (R + gamma*max_next_Qvalue-Qvalues[action])\n",
    "                target = np.copy(Qvalues)\n",
    "                target[action] = updatedQ\n",
    "                ann.backward(Qvalues,target,X)\n",
    "            else:\n",
    "                if a != -1:\n",
    "                    action = a\n",
    "                next_Qvalues = ann.forward(X_next)\n",
    "                next_action = epsilon(allowed_a_next,next_Qvalues,epsilon_f)\n",
    "                updatedQ = Qvalues[action] + (R + gamma*(next_Qvalues[next_action])-Qvalues[action])\n",
    "                target = np.copy(Qvalues)\n",
    "                target[action] = updatedQ\n",
    "                ann.backward(Qvalues,target,X)\n",
    "                a = next_action\n",
    "                \n",
    "            \n",
    "            \n",
    "        # --- make next state the current state    \n",
    "        S=np.copy(S_next)\n",
    "        X=np.copy(X_next)\n",
    "        allowed_a=np.copy(allowed_a_next)\n",
    "        \n",
    "        # --- Update number of actions\n",
    "        i += 1 \n",
    "\n",
    "        \n",
    "        "
   ]
  },
  {
   "cell_type": "code",
   "execution_count": 53,
   "id": "f2d170a1",
   "metadata": {},
   "outputs": [
    {
     "name": "stdout",
     "output_type": "stream",
     "text": [
      "Random_Agent, Average reward: 0.907402 Number of steps:  4.846886\n",
      "Max average: $0.9786920799971598\n"
     ]
    },
    {
     "data": {
      "image/png": "[encoded data removed]",
      "text/plain": [
       "<Figure size 576x432 with 1 Axes>"
      ]
     },
     "metadata": {
      "needs_background": "light"
     },
     "output_type": "display_data"
    }
   ],
   "source": [
    "print('Random_Agent, Average reward:',np.mean(R_save),'Number of steps: ',np.mean(N_moves_save),)\n",
    "fig, axs = plt.subplots(1,figsize=(8,6))\n",
    "R_save = np.squeeze(R_save)\n",
    "weights = np.exp(np.linspace(-1.,0.,R_save.shape[0]//10))\n",
    "weights /= weights.sum()\n",
    "ema = np.convolve(R_save, weights, mode='valid')\n",
    "plt.plot(ema, label='Rewards')\n",
    "plt.legend()\n",
    "plt.xlabel('episode')\n",
    "plt.ylabel('reward')\n",
    "plt.title('Moving average Rewards for Q-learning')\n",
    "print(f'Max average: ${np.max(ema)}')"
   ]
  },
  {
   "cell_type": "code",
   "execution_count": 50,
   "id": "58ac8513",
   "metadata": {},
   "outputs": [
    {
     "name": "stdout",
     "output_type": "stream",
     "text": [
      "Min average: $3.187072965066794\n"
     ]
    },
    {
     "data": {
      "image/png": "[encoded data removed]",
      "text/plain": [
       "<Figure size 576x432 with 1 Axes>"
      ]
     },
     "metadata": {
      "needs_background": "light"
     },
     "output_type": "display_data"
    }
   ],
   "source": [
    "fig, axs = plt.subplots(1,figsize=(8,6))\n",
    "N_moves_save = np.squeeze(N_moves_save)\n",
    "weights = np.exp(np.linspace(-1.,0.,N_moves_save.shape[0]//10))\n",
    "weights /= weights.sum()\n",
    "ema = np.convolve(N_moves_save, weights, mode='valid')\n",
    "plt.plot(ema, label='Moves')\n",
    "plt.legend()\n",
    "plt.xlabel('episode')\n",
    "plt.ylabel('number of moves')\n",
    "plt.title('Moving average Number of moves per game for Q-learning')\n",
    "print(f'Min average: ${np.min(ema)}')"
   ]
  },
  {
   "cell_type": "code",
   "execution_count": null,
   "id": "a36f3d8b",
   "metadata": {},
   "outputs": [],
   "source": []
  }
 ],
 "metadata": {
  "kernelspec": {
   "display_name": "Python 3 (ipykernel)",
   "language": "python",
   "name": "python3"
  },
  "language_info": {
   "codemirror_mode": {
    "name": "ipython",
    "version": 3
   },
   "file_extension": ".py",
   "mimetype": "text/x-python",
   "name": "python",
   "nbconvert_exporter": "python",
   "pygments_lexer": "ipython3",
   "version": "3.9.5"
  }
 },
 "nbformat": 4,
 "nbformat_minor": 5
}
